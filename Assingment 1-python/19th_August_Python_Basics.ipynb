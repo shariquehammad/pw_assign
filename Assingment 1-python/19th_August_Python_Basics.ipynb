{
 "cells": [
  {
   "cell_type": "markdown",
   "id": "305b5683",
   "metadata": {},
   "source": [
    "# Python Basics Assignment"
   ]
  },
  {
   "cell_type": "markdown",
   "id": "711dcf28",
   "metadata": {},
   "source": [
    "## TOPIC: Python Basics Variable "
   ]
  },
  {
   "cell_type": "markdown",
   "id": "87fe61ae",
   "metadata": {},
   "source": [
    "#### 1. Declare two variables, `x` and `y`, and assign them integer values. Swap the values of these variables without using any temporary variable."
   ]
  },
  {
   "cell_type": "code",
   "execution_count": 1,
   "id": "ead0e898",
   "metadata": {},
   "outputs": [
    {
     "name": "stdout",
     "output_type": "stream",
     "text": [
      "Initial Values: x = 1 , y = 2\n",
      "Swapped Values: x = 2 , y = 1\n"
     ]
    }
   ],
   "source": [
    "x = 1\n",
    "y = 2\n",
    "print(\"Initial Values: x =\", x,\", y =\",y)\n",
    "x, y = y,x\n",
    "print(\"Swapped Values: x =\", x,\", y =\",y)"
   ]
  },
  {
   "cell_type": "markdown",
   "id": "5adc2a7b",
   "metadata": {},
   "source": [
    "#### 2. Create a program that calculates the area of a rectangle. Take the length and width as inputs from the user and store them in variables. Calculate and display the area."
   ]
  },
  {
   "cell_type": "code",
   "execution_count": 2,
   "id": "c313fd3a",
   "metadata": {},
   "outputs": [
    {
     "name": "stdout",
     "output_type": "stream",
     "text": [
      "Enter Length of the rectangle: 2\n",
      "Enter Width of the rectangle: 2.5\n",
      "Area of the rectangle is:  5.0\n"
     ]
    }
   ],
   "source": [
    "length = float(input(\"Enter Length of the rectangle: \"))\n",
    "width = float(input(\"Enter Width of the rectangle: \"))\n",
    "area = length*width\n",
    "print(\"Area of the rectangle is: \",area)"
   ]
  },
  {
   "cell_type": "markdown",
   "id": "90a8f7c7",
   "metadata": {},
   "source": [
    "#### 3. Write a Python program that converts temperatures from Celsius to Fahrenheit. Take the temperature in Celsius as input, store it in a variable, convert it to Fahrenheit, and display the result."
   ]
  },
  {
   "cell_type": "code",
   "execution_count": 3,
   "id": "25328d03",
   "metadata": {},
   "outputs": [
    {
     "name": "stdout",
     "output_type": "stream",
     "text": [
      "Enter temperature in celsius: 0\n",
      "Temperature in Fahrenheit is:  32.0\n"
     ]
    }
   ],
   "source": [
    "celsius = float(input(\"Enter temperature in celsius: \"))\n",
    "fahrenheit = 9/5*celsius + 32\n",
    "print(\"Temperature in Fahrenheit is: \", fahrenheit)"
   ]
  },
  {
   "cell_type": "markdown",
   "id": "8dbee36a",
   "metadata": {},
   "source": [
    "## TOPIC: String Based Questions"
   ]
  },
  {
   "cell_type": "markdown",
   "id": "c678530f",
   "metadata": {},
   "source": [
    "#### 1. Write a Python program that takes a string as input and prints the length of the string."
   ]
  },
  {
   "cell_type": "code",
   "execution_count": 4,
   "id": "1331f3e0",
   "metadata": {},
   "outputs": [
    {
     "name": "stdout",
     "output_type": "stream",
     "text": [
      "Enter a string: qwerty\n",
      "Length of input string:  6\n"
     ]
    }
   ],
   "source": [
    "s1 = input(\"Enter a string: \")\n",
    "s1_length = len(s1)\n",
    "print(\"Length of input string: \",s1_length)"
   ]
  },
  {
   "cell_type": "markdown",
   "id": "a568b333",
   "metadata": {},
   "source": [
    "#### 2. Create a program that takes a sentence from the user and counts the number of vowels (a, e, i, o, u) in the string."
   ]
  },
  {
   "cell_type": "code",
   "execution_count": 5,
   "id": "5dc286c2",
   "metadata": {},
   "outputs": [
    {
     "name": "stdout",
     "output_type": "stream",
     "text": [
      "Enter input string: Python fluency\n",
      "Number of vowels in input string:  3\n"
     ]
    }
   ],
   "source": [
    "s2 = input(\"Enter input string: \")\n",
    "num_vowels = 0\n",
    "for i in s2:\n",
    "    if i =='a' or i =='e' or i=='i' or i=='o' or i == 'u'or i =='A' or i =='E' or i=='I' or i=='O' or i == 'U':\n",
    "        num_vowels += 1\n",
    "print(\"Number of vowels in input string: \", num_vowels)"
   ]
  },
  {
   "cell_type": "markdown",
   "id": "4a116dcc",
   "metadata": {},
   "source": [
    "#### 3. Given a string, reverse the order of characters using string slicing and print the reversed string."
   ]
  },
  {
   "cell_type": "code",
   "execution_count": 6,
   "id": "f705eef7",
   "metadata": {},
   "outputs": [
    {
     "name": "stdout",
     "output_type": "stream",
     "text": [
      "Enter input string: qwerty\n",
      "Reversed String:  ytrewq\n"
     ]
    }
   ],
   "source": [
    "s3 = input(\"Enter input string: \")\n",
    "s3 = s3[::-1]\n",
    "print(\"Reversed String: \", s3)"
   ]
  },
  {
   "cell_type": "markdown",
   "id": "70deb854",
   "metadata": {},
   "source": [
    "#### 4. Write a program that takes a string as input and checks if it is a palindrome (reads the same forwards and backwards)."
   ]
  },
  {
   "cell_type": "code",
   "execution_count": 7,
   "id": "001537d8",
   "metadata": {},
   "outputs": [
    {
     "name": "stdout",
     "output_type": "stream",
     "text": [
      "Enter input string: asdfdsa\n",
      "Entered Input string is a palindrome\n"
     ]
    }
   ],
   "source": [
    "s4 = input(\"Enter input string: \")\n",
    "if s4 == s4[::-1]:\n",
    "    print(\"Entered Input string is a palindrome\")\n",
    "else:\n",
    "    print(\"Entered Input string is not a palindrome\")"
   ]
  },
  {
   "cell_type": "markdown",
   "id": "1a3d2c4b",
   "metadata": {},
   "source": [
    "#### 5. Create a program that takes a string as input and removes all the spaces from it. Print the modified string without spaces."
   ]
  },
  {
   "cell_type": "code",
   "execution_count": 8,
   "id": "85ad98d1",
   "metadata": {},
   "outputs": [
    {
     "name": "stdout",
     "output_type": "stream",
     "text": [
      "Enter input string:  H i T h e r e !\n",
      "Modified string:  HiThere!\n"
     ]
    }
   ],
   "source": [
    "s5 = input(\"Enter input string: \")\n",
    "modified_s5= s5.replace(\" \", \"\")\n",
    "print(\"Modified string: \",modified_s5)"
   ]
  }
 ],
 "metadata": {
  "kernelspec": {
   "display_name": "Python 3",
   "language": "python",
   "name": "python3"
  },
  "language_info": {
   "codemirror_mode": {
    "name": "ipython",
    "version": 3
   },
   "file_extension": ".py",
   "mimetype": "text/x-python",
   "name": "python",
   "nbconvert_exporter": "python",
   "pygments_lexer": "ipython3",
   "version": "3.8.8"
  }
 },
 "nbformat": 4,
 "nbformat_minor": 5
}
