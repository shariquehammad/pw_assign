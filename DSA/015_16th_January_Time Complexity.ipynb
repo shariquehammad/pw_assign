{
 "cells": [
  {
   "cell_type": "markdown",
   "id": "3fec11ec",
   "metadata": {},
   "source": [
    "### PW Skillls Assignment 15 - Time Complexity."
   ]
  },
  {
   "cell_type": "markdown",
   "id": "ada9a893",
   "metadata": {},
   "source": [
    "##### Problem 1: Worst case TC : O(n^2)\n"
   ]
  },
  {
   "cell_type": "markdown",
   "id": "508a4a37",
   "metadata": {},
   "source": [
    "##### Problem 2: Worst case TC : O(n^2)"
   ]
  },
  {
   "cell_type": "markdown",
   "id": "cbfaaee9",
   "metadata": {},
   "source": [
    "##### Problem 3: Worst case TC : O(n)"
   ]
  },
  {
   "cell_type": "markdown",
   "id": "2feee5c1",
   "metadata": {},
   "source": [
    "##### Problem 4: Worst case TC : O(n^2)"
   ]
  },
  {
   "cell_type": "markdown",
   "id": "0a4d09f6",
   "metadata": {},
   "source": [
    "##### Problem 5: Worst case TC : O(n^2)"
   ]
  },
  {
   "cell_type": "markdown",
   "id": "d2e5debf",
   "metadata": {},
   "source": [
    "##### Problem 6 : Sum of Digits: Write a recursive function to calculate the sum of digits of a given positive integer. sum_of_digits(123) -> 6"
   ]
  },
  {
   "cell_type": "code",
   "execution_count": 1,
   "id": "123ecd8e",
   "metadata": {},
   "outputs": [
    {
     "name": "stdout",
     "output_type": "stream",
     "text": [
      "Sum of digits in 12345 is 15\n"
     ]
    }
   ],
   "source": [
    "# Problem 6 : Sum of Digits\n",
    "\n",
    "def sum_of_digit( n ):\n",
    "    if n == 0:\n",
    "        return 0\n",
    "    return (n % 10 + sum_of_digit(int(n / 10)))\n",
    "\n",
    "num = 12345\n",
    "result = sum_of_digit(num)\n",
    "print(\"Sum of digits in\",num,\"is\", result)"
   ]
  },
  {
   "cell_type": "markdown",
   "id": "042b355a",
   "metadata": {},
   "source": [
    "##### Problem 7: Fibonacci Series: Write a recursive function to generate the first n numbers of the Fibonacci series. fibonacci_series(6) -> [0, 1, 1, 2, 3, 5]"
   ]
  },
  {
   "cell_type": "code",
   "execution_count": 2,
   "id": "4d589920",
   "metadata": {},
   "outputs": [
    {
     "name": "stdout",
     "output_type": "stream",
     "text": [
      "0 1 1 2 3 5 8 "
     ]
    }
   ],
   "source": [
    "# Problem 7: Fibonacci Series\n",
    "def fibonacci_numbers(num):\n",
    "    if num == 0:\n",
    "        return 0\n",
    "    elif num == 1:\n",
    "        return 1\n",
    "    else:\n",
    "        # printing fibonacci numbers\n",
    "        return fibonacci_numbers(num-2)+fibonacci_numbers(num-1)\n",
    "\n",
    "n = 7\n",
    "for i in range(0, n):\n",
    "    print(fibonacci_numbers(i), end=\" \")"
   ]
  },
  {
   "cell_type": "markdown",
   "id": "5a51200a",
   "metadata": {},
   "source": [
    "##### Problem 8 : Subset Sum: Given a set of positive integers and a target sum, write a recursive function to determine if there exists a subset of the integers that adds up to the target sum. \n",
    "\n",
    "##### subset_sum([3, 34, 4, 12, 5, 2], 9) -> True"
   ]
  },
  {
   "cell_type": "code",
   "execution_count": 3,
   "id": "33291eaf",
   "metadata": {},
   "outputs": [
    {
     "name": "stdout",
     "output_type": "stream",
     "text": [
      "False\n"
     ]
    }
   ],
   "source": [
    "# Problem 8 : Subset Sum\n",
    "def isSubsetSum(set, n, sum):\n",
    "\n",
    "    # Base Cases\n",
    "    if (sum == 0):\n",
    "        return True\n",
    "    if (n == 0):\n",
    "        return False\n",
    "\n",
    "    # If last element is greater than\n",
    "    # sum, then ignore it\n",
    "    if (set[n - 1] > sum):\n",
    "        return isSubsetSum(set, n - 1, sum)\n",
    "\n",
    "    # Else, check if sum can be obtained\n",
    "    # by any of the following\n",
    "    # (a) including the last element\n",
    "    # (b) excluding the last element\n",
    "    return isSubsetSum(\n",
    "        set, n-1, sum) or isSubsetSum(\n",
    "        set, n-1, sum-set[n-1])\n",
    "\n",
    "print(isSubsetSum([3, 34, 4, 12, 5, 2], 6 , 101))"
   ]
  },
  {
   "cell_type": "markdown",
   "id": "eb395512",
   "metadata": {},
   "source": [
    "##### Problem 9: Word Break Given a non-empty string and a dictionary of words, write a recursive function to determine if the string can be segmented into a space-separated sequence of dictionary words.\n",
    "\n",
    "##### word_break( leetcode , [ leet , code ]) -> True"
   ]
  },
  {
   "cell_type": "code",
   "execution_count": 4,
   "id": "602aafb6",
   "metadata": {},
   "outputs": [
    {
     "name": "stdout",
     "output_type": "stream",
     "text": [
      "True\n"
     ]
    }
   ],
   "source": [
    "# Problem 9: Word Break\n",
    "\n",
    "def wordBreak(wordList, word):\n",
    "    if word == '':\n",
    "        return True\n",
    "    else:\n",
    "        wordLen = len(word)\n",
    "        for i in range(1,wordLen+1):\n",
    "          if word[:i] in wordList and wordBreak(wordList, word[i:]):\n",
    "            return True\n",
    "        return False\n",
    "\n",
    "print(wordBreak( [\"leet\", \"code\"], \"leetcode\"))"
   ]
  },
  {
   "cell_type": "markdown",
   "id": "19e1455e",
   "metadata": {},
   "source": [
    "##### Problem 10 : N-Queens\n",
    "##### Implement a recursive function to solve the N Queens problem, where you have to place N queens on an N×N chessboard in such a way that no two queens threaten each other."
   ]
  },
  {
   "cell_type": "code",
   "execution_count": 5,
   "id": "59501dda",
   "metadata": {},
   "outputs": [
    {
     "name": "stdout",
     "output_type": "stream",
     "text": [
      ". . Q . \n",
      "Q . . . \n",
      ". . . Q \n",
      ". Q . . \n"
     ]
    }
   ],
   "source": [
    "# Problem 10 : N-Queens\n",
    "global N\n",
    "N = 4\n",
    "\n",
    "\n",
    "def printSolution(board):\n",
    "    for i in range(N):\n",
    "        for j in range(N):\n",
    "            if board[i][j] == 1:\n",
    "                print(\"Q\",end=\" \")\n",
    "            else:\n",
    "                print(\".\",end=\" \")\n",
    "        print()\n",
    "\n",
    "\n",
    "def isSafe(board, row, col):\n",
    "\n",
    "    # Check this row on left side\n",
    "    for i in range(col):\n",
    "        if board[row][i] == 1:\n",
    "            return False\n",
    "\n",
    "    # Check upper diagonal on left side\n",
    "    for i, j in zip(range(row, -1, -1),\n",
    "                    range(col, -1, -1)):\n",
    "        if board[i][j] == 1:\n",
    "            return False\n",
    "\n",
    "    # Check lower diagonal on left side\n",
    "    for i, j in zip(range(row, N, 1),\n",
    "                    range(col, -1, -1)):\n",
    "        if board[i][j] == 1:\n",
    "            return False\n",
    "\n",
    "    return True\n",
    "\n",
    "\n",
    "def solveNQUtil(board, col):\n",
    "\n",
    "    # Base case: If all queens are placed\n",
    "    # then return true\n",
    "    if col >= N:\n",
    "        return True\n",
    "\n",
    "    # Consider this column and try placing\n",
    "    # this queen in all rows one by one\n",
    "    for i in range(N):\n",
    "\n",
    "        if isSafe(board, i, col):\n",
    "\n",
    "            # Place this queen in board[i][col]\n",
    "            board[i][col] = 1\n",
    "\n",
    "            # Recur to place rest of the queens\n",
    "            if solveNQUtil(board, col + 1) :\n",
    "                return True\n",
    "\n",
    "            # If placing queen in board[i][col\n",
    "            # doesn't lead to a solution, then\n",
    "            # queen from board[i][col]\n",
    "            board[i][col] = 0\n",
    "\n",
    "    # If the queen can not be placed in any row in\n",
    "    # this column col then return false\n",
    "    return False\n",
    "\n",
    "\n",
    "# This function solves the N Queen problem using\n",
    "# Backtracking. It mainly uses solveNQUtil() to\n",
    "# solve the problem. It returns false if queens\n",
    "# cannot be placed, otherwise return true and\n",
    "# placement of queens in the form of 1s.\n",
    "# note that there may be more than one\n",
    "# solutions, this function prints one of the\n",
    "# feasible solutions.\n",
    "def solveNQ():\n",
    "    board = [[0, 0, 0, 0],\n",
    "             [0, 0, 0, 0],\n",
    "             [0, 0, 0, 0],\n",
    "             [0, 0, 0, 0]]\n",
    "\n",
    "    if not solveNQUtil(board, 0) :\n",
    "        print(\"Solution does not exist\")\n",
    "        return\n",
    "\n",
    "    printSolution(board)\n",
    "\n",
    "\n",
    "\n",
    "solveNQ()\n"
   ]
  }
 ],
 "metadata": {
  "kernelspec": {
   "display_name": "Python 3",
   "language": "python",
   "name": "python3"
  },
  "language_info": {
   "codemirror_mode": {
    "name": "ipython",
    "version": 3
   },
   "file_extension": ".py",
   "mimetype": "text/x-python",
   "name": "python",
   "nbconvert_exporter": "python",
   "pygments_lexer": "ipython3",
   "version": "3.8.8"
  }
 },
 "nbformat": 4,
 "nbformat_minor": 5
}
