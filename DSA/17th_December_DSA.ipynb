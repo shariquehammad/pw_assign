{
 "cells": [
  {
   "cell_type": "code",
   "execution_count": 1,
   "metadata": {},
   "outputs": [],
   "source": [
    "class Node:\n",
    "    def __init__(self, data=None, next=None):\n",
    "        self.data = data\n",
    "        self.next = next\n",
    "        \n",
    "    def setData(self, data):\n",
    "        self.data = data\n",
    "        \n",
    "    def getData(self):\n",
    "        return self.data\n",
    "    \n",
    "    def setNext(self, next):\n",
    "        self.next = next\n",
    "        \n",
    "    def getNext(self):\n",
    "        return self.next\n",
    "    \n",
    "    \n",
    "def length(head):\n",
    "    len = 0\n",
    "    temp = head\n",
    "    while temp:\n",
    "        len+=1\n",
    "        temp = temp.getNext()\n",
    "        \n",
    "    return len\n",
    "\n",
    "def traverse(head):\n",
    "    temp = head\n",
    "    \n",
    "    while temp:\n",
    "        print(temp.getData(), end=\"->\")\n",
    "        temp = temp.getNext()\n",
    "        \n",
    "def deleteNode(head, k):\n",
    "    if k>length(head) or k<0 or not head:\n",
    "        return head\n",
    "        \n",
    "        \n",
    "    if k == 0:\n",
    "        new_head = head.getNext()\n",
    "        \n",
    "    else:\n",
    "        \n",
    "        i = 0\n",
    "        prev = head\n",
    "        while(i<k-1):\n",
    "            prev = prev.getNext()\n",
    "            i += 1\n",
    "        #prev will be pointing to the node left of the kth position\n",
    "        \n",
    "        prev.setNext(prev.getNext().getNext())\n",
    "\n",
    "\n",
    "    return head\n",
    "    "
   ]
  },
  {
   "cell_type": "markdown",
   "metadata": {},
   "source": [
    "### Problem 1: Reverse a singly linked list.\n",
    "\n",
    "* `Input: 1 -> 2 -> 3 -> 4 -> 5`\n",
    "* `Output: 5 -> 4 -> 3 -> 2 -> 1`"
   ]
  },
  {
   "cell_type": "code",
   "execution_count": 2,
   "metadata": {},
   "outputs": [
    {
     "name": "stdout",
     "output_type": "stream",
     "text": [
      "1->2->3->4->5->\n",
      "5->4->3->2->1->"
     ]
    }
   ],
   "source": [
    "def reverse(head):\n",
    "    prev = None\n",
    "    current = head\n",
    "    while(current != None):\n",
    "        next = current.getNext()\n",
    "        current.setNext(prev)\n",
    "        prev = current\n",
    "        current = next\n",
    "    return prev\n",
    "    \n",
    "    \n",
    "head = Node(1)\n",
    "node2 = Node(2)\n",
    "node3 = Node(3)\n",
    "node4 = Node(4)\n",
    "node5 = Node(5)\n",
    "\n",
    "head.setNext(node2)\n",
    "node2.setNext(node3)\n",
    "node3.setNext(node4)\n",
    "node4.setNext(node5)\n",
    "\n",
    "traverse(head)\n",
    "print()\n",
    "\n",
    "head = reverse(head)\n",
    "\n",
    "traverse(head)"
   ]
  },
  {
   "cell_type": "markdown",
   "metadata": {},
   "source": [
    "### Problem 2: Merge two sorted linked lists into one sorted linked list.\n",
    "* `input: List 1: 1 -> 3 -> 5`\n",
    "        `List 2: 2 -> 4 ->6 `\n",
    "* `Output: 1 -> 2 -> 3 -> 4 -> 5 ->6`"
   ]
  },
  {
   "cell_type": "code",
   "execution_count": 3,
   "metadata": {},
   "outputs": [
    {
     "name": "stdout",
     "output_type": "stream",
     "text": [
      "1->3->5->\n",
      "2->4->6->\n",
      "1->2->3->4->5->6->"
     ]
    }
   ],
   "source": [
    "def mergeSortLinkedList(l1, l2):\n",
    "    mergerd_head = Node()\n",
    "    current = mergerd_head\n",
    "    while(l1 is not None and l2 is not None):\n",
    "        if l1.getData()<l2.getData():\n",
    "            current.setNext(l1)\n",
    "            l1 = l1.getNext()\n",
    "        else:\n",
    "            current.setNext(l2)\n",
    "            l2 = l2.getNext()\n",
    "            \n",
    "        current = current.getNext()\n",
    "            \n",
    "    if l1 is not None:\n",
    "        current.setNext(l1)\n",
    "        \n",
    "    elif l2 is not None:\n",
    "        current.setNext(l2)\n",
    "        \n",
    "    \n",
    "    return mergerd_head.getNext()\n",
    "            \n",
    "            \n",
    "l1 = Node(1, Node(3, Node(5)))\n",
    "l2 = Node(2, Node(4, Node(6)))\n",
    "traverse(l1)\n",
    "print()\n",
    "traverse(l2)\n",
    "print()\n",
    "result = mergeSortLinkedList(l2, l1)\n",
    "traverse(result)\n",
    "            "
   ]
  },
  {
   "cell_type": "markdown",
   "metadata": {},
   "source": [
    "### Problem 3: Remove the nth node from the end of a linked list.\n",
    "\n",
    "* `Input: 1 -> 2 -> 3 -> 4 -> 5, n-=2`\n",
    "* `Output: 1 -> 2 -> 3 -> 5`"
   ]
  },
  {
   "cell_type": "code",
   "execution_count": 4,
   "metadata": {},
   "outputs": [
    {
     "name": "stdout",
     "output_type": "stream",
     "text": [
      "1->2->3->4->5->\n",
      "1->2->4->5->"
     ]
    }
   ],
   "source": [
    "def deleteNode(head, k):\n",
    "    if k>length(head) or k<0 or not head:\n",
    "        return head\n",
    "        \n",
    "        \n",
    "    if k == 0:\n",
    "        new_head = head.getNext()\n",
    "        head = new_head\n",
    "        \n",
    "    else:\n",
    "        \n",
    "        i = 0\n",
    "        prev = head\n",
    "        while(i<k-1):\n",
    "            prev = prev.getNext()\n",
    "            i += 1\n",
    "        \n",
    "        prev.setNext(prev.getNext().getNext())\n",
    "\n",
    "\n",
    "    return head\n",
    "\n",
    "list1 = Node(1, Node(2, Node(3, Node(4, Node(5)))))\n",
    "\n",
    "traverse(list1)\n",
    "print()\n",
    "head = deleteNode(list1,2)\n",
    "traverse(head)"
   ]
  },
  {
   "cell_type": "markdown",
   "metadata": {},
   "source": [
    "### Problem 4: Find the intersection point of two linked lists.\n",
    "\n",
    "* `input: List 1: 1 -> 2 -> 3 -> 4, List 2: 9 -> 8 -> 3 -> 4`\n",
    "* `Output: Node with value 3`"
   ]
  },
  {
   "cell_type": "code",
   "execution_count": 5,
   "metadata": {},
   "outputs": [
    {
     "name": "stdout",
     "output_type": "stream",
     "text": [
      "1->2->3->4->5->11->\n",
      "6->7->8->4->5->11->\n",
      "4\n"
     ]
    }
   ],
   "source": [
    "def intersection(head1, head2):\n",
    "    len1 = length(head1)\n",
    "    len2 = length(head2)\n",
    "        \n",
    "    p1 = head1\n",
    "    p2 = head2\n",
    "    \n",
    "    if len1 != len2:\n",
    "        for i in range(abs(len1-len2)):\n",
    "            if len1 > len2:\n",
    "                p1 = p1.getNext()\n",
    "                \n",
    "            else:\n",
    "                p2 = p2.getNext()\n",
    "                \n",
    "                \n",
    "    while p1 != p2 and p1 is not None and p2 is not None:\n",
    "        p1 = p1.getNext()\n",
    "        p2 = p2.getNext()\n",
    "        \n",
    "        \n",
    "    return p1\n",
    "\n",
    "\n",
    "#list1 = Node(1, Node(2, Node(3, Node(4))))\n",
    "#list2 = Node(9, Node(8, list1.next.next))\n",
    "\n",
    "list1 = Node(1, Node(2, Node(3, Node(4, Node(5, Node(11))))))\n",
    "list2 = Node(6, Node(7, Node(8, list1.next.next.next)))\n",
    "\n",
    "traverse(list1)\n",
    "print()\n",
    "traverse(list2)\n",
    "print()\n",
    "\n",
    "intersection_point = intersection(list1, list2)\n",
    "print(intersection_point.getData() if intersection_point else None)      \n",
    "    "
   ]
  },
  {
   "cell_type": "markdown",
   "metadata": {},
   "source": [
    "### Problem 5: Remove duplicates from a sorted linked list.\n",
    "\n",
    "* `Input: 1 -> 1 -> 2 -> 3 -> 3`\n",
    "* `Output: 1 -> 2 ->3`"
   ]
  },
  {
   "cell_type": "code",
   "execution_count": 6,
   "metadata": {},
   "outputs": [
    {
     "name": "stdout",
     "output_type": "stream",
     "text": [
      "1->2->2->3->3->3->4->\n",
      "1->2->3->4->"
     ]
    }
   ],
   "source": [
    "def duplicate_remove(head):\n",
    "    \n",
    "    ptr = head\n",
    "    \n",
    "    while ptr.getNext() is not None:\n",
    "        if ptr.getData() == ptr.getNext().getData():\n",
    "            ptr.setNext(ptr.getNext().getNext())\n",
    "            \n",
    "        else:\n",
    "            ptr = ptr.getNext()\n",
    "            \n",
    "    return head\n",
    "    \n",
    "    \n",
    "list1 = Node(1, Node(2, Node(2, Node(3, Node(3, Node(3, Node(4)))))))\n",
    "traverse(list1)\n",
    "\n",
    "head_new = duplicate_remove(list1)\n",
    "print()\n",
    "traverse(head_new)"
   ]
  },
  {
   "cell_type": "markdown",
   "metadata": {},
   "source": [
    "### Problem 6: Add two numbers represented by linked lists (where each node contains a single digit).\n",
    "\n",
    "* `Input: List 1: 2 -> 4 -> 3, List 2: 5 -> 6 -> 4 (represents 342 + 465)`\n",
    "* `Output: 7 -> 0 -> 8 (represents 807)`"
   ]
  },
  {
   "cell_type": "code",
   "execution_count": 7,
   "metadata": {},
   "outputs": [
    {
     "name": "stdout",
     "output_type": "stream",
     "text": [
      "Sum of Linked list's is: \n",
      "7->0->8->"
     ]
    }
   ],
   "source": [
    "def SumLL(l1, l2):\n",
    "    new_head = Node()\n",
    "    current = new_head\n",
    "    carry = 0\n",
    "    \n",
    "    while l1 or l2 or carry:\n",
    "        total_sum = l1.getData() + l2.getData() + carry\n",
    "        \n",
    "        carry = total_sum // 10\n",
    "        \n",
    "        current.next = Node(total_sum  % 10)\n",
    "        \n",
    "        if l1:\n",
    "            l1 = l1.getNext()\n",
    "            \n",
    "        if l2:\n",
    "            l2 = l2.getNext()\n",
    "            \n",
    "        current = current.next\n",
    "        \n",
    "    return new_head.getNext()\n",
    "        \n",
    "    \n",
    "list1 = Node(2, Node(4, Node(3)))\n",
    "list2 = Node(5, Node(6, Node(4)))\n",
    "\n",
    "result = SumLL(list1, list2)\n",
    "print(\"Sum of Linked list's is: \")\n",
    "traverse(result)\n",
    "\n",
    "        "
   ]
  },
  {
   "cell_type": "markdown",
   "metadata": {},
   "source": [
    "### Problem 7: Swap nodes in pairs in a linked list."
   ]
  },
  {
   "cell_type": "code",
   "execution_count": 8,
   "metadata": {},
   "outputs": [
    {
     "name": "stdout",
     "output_type": "stream",
     "text": [
      "1->2->3->4->5->\n",
      "2->1->4->3->5->"
     ]
    }
   ],
   "source": [
    "def swap(head):\n",
    "    current = head\n",
    "    \n",
    "    while current is not None and current.getNext() is not None:\n",
    "        temp_data = current.getData()\n",
    "        current.setData(current.getNext().getData())\n",
    "        current.getNext().setData(temp_data)       \n",
    "        current = current.getNext().getNext()\n",
    "    \n",
    "    return head\n",
    "    \n",
    "head = Node(1, Node(2, Node(3, Node(4, Node(5)))))\n",
    "traverse(head)\n",
    "\n",
    "print()\n",
    "\n",
    "traverse(swap(head))"
   ]
  },
  {
   "cell_type": "markdown",
   "metadata": {},
   "source": [
    "### Problem 8: Reverse nodes in a linked list in groups of k.\n",
    "* `Input: 1 -> 2 -> 3 -> 4 -> 5, k = 3`\n",
    "* `Output: 3 -> 2 -> 1 -> 4 -> 5`"
   ]
  },
  {
   "cell_type": "code",
   "execution_count": 9,
   "metadata": {},
   "outputs": [
    {
     "name": "stdout",
     "output_type": "stream",
     "text": [
      "1->2->3->4->5->6->7->8->\n",
      "3->2->1->6->5->4->7->8->"
     ]
    }
   ],
   "source": [
    "def reversenode_k(head, k):\n",
    "    prev = None\n",
    "    current = head\n",
    "    count = 0\n",
    "    n = length(current)\n",
    "    if n<k:\n",
    "        return head\n",
    "    \n",
    "    while(current and count < k):\n",
    "        next = current.getNext()\n",
    "        current.setNext(prev)\n",
    "        prev = current\n",
    "        current = next\n",
    "        count += 1\n",
    "        \n",
    "    if next is not None:\n",
    "        head.next = reversenode_k(next, k)\n",
    "    return prev\n",
    "\n",
    "\n",
    "head = Node(1)\n",
    "node2 = Node(2)\n",
    "node3 = Node(3)\n",
    "node4 = Node(4)\n",
    "node5 = Node(5)\n",
    "node6 = Node(6)\n",
    "node7 = Node(7)\n",
    "node8 = Node(8)\n",
    "\n",
    "head.setNext(node2)\n",
    "node2.setNext(node3)\n",
    "node3.setNext(node4)\n",
    "node4.setNext(node5)\n",
    "node5.setNext(node6)\n",
    "node6.setNext(node7)\n",
    "node7.setNext(node8)\n",
    "\n",
    "traverse(head)\n",
    "print()\n",
    "\n",
    "head = reversenode_k(head, 3)\n",
    "\n",
    "traverse(head)\n",
    "    "
   ]
  },
  {
   "cell_type": "markdown",
   "metadata": {},
   "source": [
    "### Problem 9: Determine if a linked list is a palindrome.\n",
    "* `Input: 1 -> 2 -> 2 -> 1`\n",
    "* `Output: true`"
   ]
  },
  {
   "cell_type": "code",
   "execution_count": 10,
   "metadata": {},
   "outputs": [
    {
     "data": {
      "text/plain": [
       "False"
      ]
     },
     "execution_count": 10,
     "metadata": {},
     "output_type": "execute_result"
    }
   ],
   "source": [
    "def palindromeLL(head):\n",
    "  \n",
    "    if not head or not head.getNext():\n",
    "        return True\n",
    "    \n",
    "    temp = head\n",
    "    len = length(head)\n",
    "    \n",
    "    for i in range(len-1):\n",
    "        temp = temp.getNext()\n",
    "\n",
    "    if head.getData() == temp.getData():\n",
    "        head = deleteNode(head, len-1)\n",
    "        return palindromeLL(head.getNext())\n",
    "        \n",
    "    else:\n",
    "        return False\n",
    "    \n",
    "    \n",
    "\n",
    "\n",
    "head = Node(1, Node(2, Node(3, Node(4, Node(2, Node(1))))))\n",
    "palindromeLL(head)"
   ]
  },
  {
   "cell_type": "markdown",
   "metadata": {},
   "source": [
    "### Problem 10: Rotate a linked list to the right by k places.\n",
    "* `Input: 1 -> 2 -> 3 -> 4 -> 5, k = 2`\n",
    "* `Output: 4 -> 5 -> 1 -> 2 -> 3`"
   ]
  },
  {
   "cell_type": "code",
   "execution_count": 11,
   "metadata": {},
   "outputs": [
    {
     "name": "stdout",
     "output_type": "stream",
     "text": [
      "1->2->3->4->5->6->\n",
      "4->5->6->1->2->3->"
     ]
    }
   ],
   "source": [
    "def rotateLL(head, k): \n",
    "    \n",
    "    len = length(head)\n",
    "    k = k%len\n",
    "    \n",
    "    if not head or k == 0:\n",
    "        return head\n",
    "    \n",
    "    start = head\n",
    "    pivot = head\n",
    "    end =head\n",
    "    \n",
    "    while end.getNext():\n",
    "        end = end.getNext()\n",
    "    \n",
    "    for i in range(len - k-1):\n",
    "        if not pivot:\n",
    "            return head\n",
    "        pivot = pivot.getNext()\n",
    "\n",
    "        \n",
    "    end.setNext(start)\n",
    "    new_head = pivot.getNext()\n",
    "    pivot.setNext(None)\n",
    "    \n",
    "    return new_head\n",
    "    \n",
    "\n",
    "head = Node(1)\n",
    "node2 = Node(2)\n",
    "node3 = Node(3)\n",
    "node4 = Node(4)\n",
    "node5 = Node(5)\n",
    "node6 = Node(6)\n",
    "\n",
    "head.setNext(node2)\n",
    "node2.setNext(node3)\n",
    "node3.setNext(node4)\n",
    "node4.setNext(node5)\n",
    "node5.setNext(node6)\n",
    "\n",
    "\n",
    "traverse(head)\n",
    "print()\n",
    "\n",
    "new_head = rotateLL(head, 3)\n",
    "\n",
    "traverse(new_head)\n",
    "    "
   ]
  },
  {
   "cell_type": "markdown",
   "metadata": {},
   "source": [
    "### Problem 11: Flatten a multilevel doubly linked list.\n",
    "* `Input: 1 <-> 2 <-> 3 <-> 7 <-> 8 <-> 11 -> 12, 4 <-> 5 -> 9 -> 10, 6 -> 13`\n",
    "* `Output: 1 <-> 2 <-> 3 <-> 4 <-> 5 <-> 6 <-> 7 <-> 8 <-> 9 <-> 10 <-> 11 <-> 12 <-> 13`"
   ]
  },
  {
   "cell_type": "code",
   "execution_count": 12,
   "metadata": {},
   "outputs": [],
   "source": [
    "\"\"\"\n",
    "# Definition for a Node.\n",
    "class Node:\n",
    "    def __init__(self, val, prev, next, child):\n",
    "        self.val = val\n",
    "        self.prev = prev\n",
    "        self.next = next\n",
    "        self.child = child\n",
    "\"\"\"\n",
    "\n",
    "\n",
    "class Solution:\n",
    "    def flatten(self, head: 'Node') -> 'Node':\n",
    "        if not head: return None\n",
    "        stack = [head]; p = None\n",
    "        while stack:\n",
    "            r = stack.pop()\n",
    "            if p:\n",
    "                p.next,r.prev = r,p\n",
    "            p = r\n",
    "            if r.next:\n",
    "                stack.append(r.next)\n",
    "            if r.child:\n",
    "                stack.append(r.child)\n",
    "                r.child = None\n",
    "        return head"
   ]
  },
  {
   "cell_type": "markdown",
   "metadata": {},
   "source": [
    "### Problem 12: Rearrange a linked list such that all even positioned nodes are placed at the end.\n",
    "\n",
    "* `Input: 1 -> 2 -> 3 -> 4 -> 5`\n",
    "* `Output: 1 -> 3 -> 5 -> 2 -> 4`"
   ]
  },
  {
   "cell_type": "code",
   "execution_count": 13,
   "metadata": {},
   "outputs": [
    {
     "name": "stdout",
     "output_type": "stream",
     "text": [
      "1->2->3->4->5->6->\n",
      "1->3->5->2->4->6->"
     ]
    }
   ],
   "source": [
    "def segregateeven_odd(head):\n",
    "    es,ee,os,oe = None,None,None,None\n",
    "    current = head\n",
    "    \n",
    "    while current != None:\n",
    "        X = current.getData()\n",
    "        if X%2 == 0:\n",
    "            if es == None:\n",
    "                es = current\n",
    "                ee = es\n",
    "            else:\n",
    "                ee.setNext(current)\n",
    "                ee = ee.getNext()\n",
    "                \n",
    "        else:\n",
    "            if os == None:\n",
    "                os = current\n",
    "                oe = os\n",
    "                \n",
    "            else:\n",
    "                oe.setNext(current)\n",
    "                oe = oe.getNext()\n",
    "                \n",
    "        current = current.getNext()\n",
    "        \n",
    "        \n",
    "    oe.setNext(es)\n",
    "            \n",
    "         \n",
    "\n",
    "head = Node(1)\n",
    "node2 = Node(2)\n",
    "node3 = Node(3)\n",
    "node4 = Node(4)\n",
    "node5 = Node(5)\n",
    "node6 = Node(6)\n",
    "\n",
    "head.setNext(node2)\n",
    "node2.setNext(node3)\n",
    "node3.setNext(node4)\n",
    "node4.setNext(node5)\n",
    "node5.setNext(node6)\n",
    "\n",
    "\n",
    "traverse(head)\n",
    "print()       \n",
    "\n",
    "segregateeven_odd(head)\n",
    "traverse(head)"
   ]
  },
  {
   "cell_type": "markdown",
   "metadata": {},
   "source": [
    "### Problem 13: Given a non-negative number represented as a linked list, add one to it.\n",
    "\n",
    "* `Input: 1 -> 2 -> 3 (represents the number 123)`\n",
    "* `Output: 1 -> 2 -> 4 (represents the number 124)`"
   ]
  },
  {
   "cell_type": "code",
   "execution_count": 14,
   "metadata": {},
   "outputs": [
    {
     "name": "stdout",
     "output_type": "stream",
     "text": [
      "9->9->0->9->9->1->\n",
      "9->9->0->9->9->2->"
     ]
    }
   ],
   "source": [
    "def rev(head):\n",
    "    prev = None\n",
    "    current = head\n",
    "    while(current != None):\n",
    "        next = current.getNext()\n",
    "        current.setNext(prev)\n",
    "        prev = current\n",
    "        current = next\n",
    "    return prev\n",
    "\n",
    "def add_one_LL(head):\n",
    "    \n",
    "    head = rev(head)\n",
    "    current = head\n",
    "    carry = 1\n",
    "\n",
    "    while current and carry:\n",
    "        current.setData(current.getData()+carry)\n",
    "        carry = current.getData() // 10\n",
    "        current.setData(current.getData()%10)\n",
    "        if carry and current.getNext() is None:\n",
    "            current.setNext(Node(carry))\n",
    "            break\n",
    "        current = current.getNext()\n",
    "\n",
    "    return rev(head)\n",
    "\n",
    "\n",
    "\n",
    "head = Node(9, Node(9, Node(0, Node(9, Node(9, Node(1))))))\n",
    "traverse(head)\n",
    "print()\n",
    "new_head = add_one_LL(head)\n",
    "traverse(new_head)"
   ]
  },
  {
   "cell_type": "markdown",
   "metadata": {},
   "source": [
    "### Problem 14: Given a sorted array and a target value, return the index if the target is found. If not, return the index where it would be inserted.\n",
    "\n",
    "* `Input: nums = [1, 3, 5, 6], target = 5`\n",
    "* `Output: 2`"
   ]
  },
  {
   "cell_type": "code",
   "execution_count": 15,
   "metadata": {},
   "outputs": [
    {
     "name": "stdout",
     "output_type": "stream",
     "text": [
      "('Element found at:', 4)\n"
     ]
    }
   ],
   "source": [
    "def find_insert(arr, target):\n",
    "    if not arr:\n",
    "          return 0\n",
    "    left, right = 0, len(arr)-1\n",
    "    \n",
    "    while left <= right:\n",
    "        \n",
    "        mid = left + (right-left)//2\n",
    "        if arr[mid] == target:\n",
    "            return \"Element found at:\",mid\n",
    "        \n",
    "        elif arr[mid]  < target:\n",
    "            left = mid +1\n",
    "            \n",
    "        else:\n",
    "            right = mid -1\n",
    "            \n",
    "            \n",
    "        \n",
    "    return \"Element not found in the given list, should be inserted at \", left\n",
    "\n",
    "\n",
    "arr = [1,3,5,6,9,12,13,17]\n",
    "target = 9\n",
    "\n",
    "result = find_insert(arr, target)\n",
    "print(result)\n",
    "    "
   ]
  },
  {
   "cell_type": "markdown",
   "metadata": {},
   "source": [
    "### Problem 15: Find the minimum element in a rotated sorted array.\n",
    "\n",
    "* `Input: [4, 5, 6, 7, 0, 1, 2]`\n",
    "* `Output: 0`"
   ]
  },
  {
   "cell_type": "code",
   "execution_count": 16,
   "metadata": {},
   "outputs": [
    {
     "name": "stdout",
     "output_type": "stream",
     "text": [
      "0\n"
     ]
    }
   ],
   "source": [
    "def min_element(arr):\n",
    "    n = len(arr)\n",
    "    low = 0\n",
    "    high = n -1\n",
    "    \n",
    "    while low<=high:\n",
    "        mid = int(low + (high-low)/2)\n",
    "        if arr[mid]<arr[mid-1] and arr[mid] < arr[mid+1]:\n",
    "            return mid\n",
    "        \n",
    "        elif arr[mid] > arr[high]:\n",
    "            low = mid +1\n",
    "            \n",
    "        else:\n",
    "            high = mid-1\n",
    "\n",
    "arr = [4,5,6,7,0,1,2]\n",
    "print(arr[min_element(arr)])"
   ]
  },
  {
   "cell_type": "markdown",
   "metadata": {},
   "source": [
    "### Problem 16: Search for a target value in a rotated sorted array.\n",
    "* `Input: nums = [4, 5, 6, 7, 0, 1, 2], target = 0`\n",
    "* `Output: 4`"
   ]
  },
  {
   "cell_type": "code",
   "execution_count": 17,
   "metadata": {},
   "outputs": [
    {
     "name": "stdout",
     "output_type": "stream",
     "text": [
      "4\n"
     ]
    }
   ],
   "source": [
    "def search_rotated_sorted(arr, start, end, target):\n",
    "    if start > end:\n",
    "        return -1\n",
    "    \n",
    "    mid = (start+end)//2\n",
    "    \n",
    "    if arr[mid] == target:\n",
    "        return mid\n",
    "    \n",
    "    if arr[start] <= arr[mid]:\n",
    "        if target >= arr[start] and target <= arr[mid]:\n",
    "            return search_rotated_sorted(arr, start, mid-1, target)\n",
    "                \n",
    "        return search_rotated_sorted(arr, mid+1, end, target)\n",
    "    \n",
    "    if target >= arr[mid] and target <= arr[end]:\n",
    "        return search_rotated_sorted(arr, mid+1, end, target)\n",
    "\n",
    "    return search_rotated_sorted(arr, start, mid-1, target)\n",
    "\n",
    "arr = [4, 5, 6, 7, 0,1, 2, ]\n",
    "target = 0\n",
    "    \n",
    "result = search_rotated_sorted(arr, 0, len(arr)-1, target)\n",
    "\n",
    "if result == -1:\n",
    "    print(f\"Element {target} not found\")\n",
    "else:\n",
    "    print(result)"
   ]
  },
  {
   "cell_type": "markdown",
   "metadata": {},
   "source": [
    "### Problem 17: Find the peak element in an array. A peak element is greater than its neighbors.\n",
    "\n",
    "* `Input: nums = [1,2,3,1]`\n",
    "* `Output: 2 (index of peak element)`"
   ]
  },
  {
   "cell_type": "code",
   "execution_count": 18,
   "metadata": {},
   "outputs": [
    {
     "name": "stdout",
     "output_type": "stream",
     "text": [
      "3\n"
     ]
    }
   ],
   "source": [
    "def peak(arr, left, right):\n",
    "    while left <= right:\n",
    "        mid = (right+left)//2\n",
    "        \n",
    "        if mid == left and arr[mid]>arr[mid+1]:\n",
    "            return mid\n",
    "        elif mid == right and arr[mid]>arr[mid-1]:\n",
    "            return mid\n",
    "        \n",
    "        elif arr[mid] > arr[mid-1] and arr[mid]> arr[mid+1]:\n",
    "            return mid\n",
    "            \n",
    "        elif mid>0 and arr[mid] < arr[mid-1]:\n",
    "            return peak(arr, left, mid-1)\n",
    "        \n",
    "        else:\n",
    "            return peak(arr, mid+1, right)\n",
    "        \n",
    "        \n",
    "arr = [10,12,14,16,15]\n",
    "n = len(arr)\n",
    "\n",
    "result = peak(arr, 0, n-1)\n",
    "print(result)"
   ]
  },
  {
   "cell_type": "markdown",
   "metadata": {},
   "source": [
    "### Problem 18: Given a m x n matrix where each row and column is sorted in ascending order, count the number of negative numbers.\n",
    "\n",
    "* `Input: grid = [[4, 3, 2, -1], [3, 2, 1, -1], [1, 1, -1, -2], [-1, -1, -2, -3]]`\n",
    "* `Output: 8`"
   ]
  },
  {
   "cell_type": "code",
   "execution_count": 19,
   "metadata": {},
   "outputs": [
    {
     "name": "stdout",
     "output_type": "stream",
     "text": [
      "4\n",
      "8\n",
      "8\n",
      "8\n",
      "10\n",
      "10\n",
      "11\n",
      "11\n",
      "None\n"
     ]
    }
   ],
   "source": [
    "# question says assending but it should be non increasing\n",
    "def count_neg(arr: list[list[int]]):\n",
    "    col_len = len(arr[0])\n",
    "    row_len = len(arr)\n",
    "\n",
    "    i = 0\n",
    "    j = col_len-1\n",
    "    total = 0\n",
    "    \n",
    "    while i<row_len and j>=0:\n",
    "        if arr[i][j] < 0:\n",
    "            total += row_len-i\n",
    "            j -= 1\n",
    "        else:\n",
    "            i += 1\n",
    "        print(total)\n",
    "            \n",
    "\n",
    "arr = [[4, 3, 2, -1, -2], [3, 2, 1, -1, -2], [1, 1, -1, -2, -4], [0,-1, -1, -2, -3]]\n",
    "\n",
    "result = count_neg(arr)\n",
    "print(result)"
   ]
  },
  {
   "cell_type": "markdown",
   "metadata": {},
   "source": [
    "#### Problem 19: Given a 2D matrix sorted in ascending order in each row, and the first integer of each row is greater than the last integer of the previous row, determine if a target value is present in the matrix.\n",
    "\n",
    "* `Input: matrix = [[1, 3, 5, 7], [10, 11, 16, 20], [23, 30, 34, 60]], target = 3`\n",
    "* `Output: True`"
   ]
  },
  {
   "cell_type": "code",
   "execution_count": 20,
   "metadata": {},
   "outputs": [
    {
     "name": "stdout",
     "output_type": "stream",
     "text": [
      "True\n"
     ]
    }
   ],
   "source": [
    "def bin_search(arr, K, N):\n",
    "    low = 0\n",
    "    high = N-1\n",
    "    \n",
    "    while(low<=high):\n",
    "        mid = low+(high-low)//2\n",
    "        \n",
    "        if arr[mid] == K:\n",
    "            return True\n",
    "        \n",
    "        if arr[mid]<K:\n",
    "            low = mid+1\n",
    "        else:\n",
    "            high = mid -1\n",
    "            \n",
    "            \n",
    "    return False\n",
    "\n",
    "def mat_search(mat, K, M, N):\n",
    "    low = 0\n",
    "    high = M-1\n",
    "    \n",
    "    while(low<=high):\n",
    "        \n",
    "        mid = low + (high-low)//2\n",
    "        \n",
    "        if (K >= mat[mid][0] and K<= mat[mid][N-1]):\n",
    "            \n",
    "            return bin_search(mat[mid], K, N)\n",
    "        \n",
    "        if (K < mat[mid][0]):\n",
    "            high = mid - 1\n",
    "            \n",
    "        else:\n",
    "            low = mid + 1\n",
    "            \n",
    "    return False\n",
    "\n",
    "matrix = [[1, 3, 5, 7],\n",
    "          [10, 11, 16, 20],\n",
    "          [23, 30, 34, 50]]\n",
    "\n",
    "K = 7\n",
    "\n",
    "M= len(matrix)\n",
    "N = len(matrix[0])\n",
    "    \n",
    "print(mat_search(matrix, K, M, N))\n",
    " \n",
    "        \n",
    "    "
   ]
  },
  {
   "cell_type": "markdown",
   "metadata": {},
   "source": [
    "#### Problem 20: Find Median in Two Sorted Arrays, Given two sorted arrays, find the median of the combined sorted array.\n",
    "\n",
    "* `Input:  nums1 = [1, 3], nums2 = [2]`\n",
    "* `Output: 2.0`"
   ]
  },
  {
   "cell_type": "code",
   "execution_count": 21,
   "metadata": {},
   "outputs": [
    {
     "data": {
      "text/plain": [
       "2"
      ]
     },
     "execution_count": 21,
     "metadata": {},
     "output_type": "execute_result"
    }
   ],
   "source": [
    "def find_median_of_sorted_arrays(arr1, arr2):\n",
    "    \n",
    "    merged = sorted(arr1 + arr2)\n",
    "    length = len(merged)\n",
    "    if length % 2 == 0:\n",
    "        return (merged[length // 2] + merged[length // 2 - 1]) / 2.0\n",
    "    else:\n",
    "        return merged[length // 2]\n",
    "        \n",
    "find_median_of_sorted_arrays([1,3],[2])"
   ]
  },
  {
   "cell_type": "markdown",
   "metadata": {},
   "source": [
    "#### Problem 21: Given a sorted character array and a target letter, find the smallest letter in the array that is greater than the target.\n",
    "\n",
    "* Input: letters = ['c', 'f', 'j'], target = a\n",
    "* Output: 'c'"
   ]
  },
  {
   "cell_type": "code",
   "execution_count": 22,
   "metadata": {},
   "outputs": [
    {
     "data": {
      "text/plain": [
       "'k'"
      ]
     },
     "execution_count": 22,
     "metadata": {},
     "output_type": "execute_result"
    }
   ],
   "source": [
    "def smallestLetter(arr, char):\n",
    "    \n",
    "    for item in arr:\n",
    "        if item > char:\n",
    "            return item\n",
    "\n",
    "    \n",
    "smallestLetter( ['c', 'f', 'j', 'k'],'j')"
   ]
  },
  {
   "cell_type": "markdown",
   "metadata": {},
   "source": [
    "#### Problem 22: Given an array with n objects colored red, white, or blue, sort them in-place so that objects of the same color are adjacent, with the colors in the order red, white, and blue.\n",
    "\n",
    "* Input: nums = [2, 0, 2, 1, 1, 0]\n",
    "* Output: [0, 0, 1, 1, 2, 2]"
   ]
  },
  {
   "cell_type": "code",
   "execution_count": 23,
   "metadata": {},
   "outputs": [
    {
     "name": "stdout",
     "output_type": "stream",
     "text": [
      "0 0 0 1 1 2 2 "
     ]
    }
   ],
   "source": [
    "def sort_0s_1s_2s(arr):\n",
    "    \n",
    "    count_0s = 0\n",
    "    count_1s = 0\n",
    "    count_2s = 0\n",
    "    \n",
    "    for item in arr:\n",
    "        if item == 0:\n",
    "            count_0s +=1\n",
    "        elif item == 1:\n",
    "            count_1s +=1\n",
    "        else:\n",
    "            count_2s +=1\n",
    "            \n",
    "    for _ in range(count_0s):\n",
    "        print(0, end = \" \")\n",
    "    for _ in range(count_1s):\n",
    "        print(1, end = \" \")\n",
    "    for _ in range(count_2s):\n",
    "        print(2, end = \" \")\n",
    "    \n",
    "sort_0s_1s_2s([2, 0, 2, 1, 1, 0,0])"
   ]
  },
  {
   "cell_type": "markdown",
   "metadata": {},
   "source": [
    "#### Problem 23: Find the kth largest element in an unsorted array.\n",
    "\n",
    "* Input: nums = [3, 2, 1, 5, 6, 4], k = 2\n",
    "* Output: 5"
   ]
  },
  {
   "cell_type": "code",
   "execution_count": 24,
   "metadata": {},
   "outputs": [
    {
     "data": {
      "text/plain": [
       "1"
      ]
     },
     "execution_count": 24,
     "metadata": {},
     "output_type": "execute_result"
    }
   ],
   "source": [
    "def findMax(arr):\n",
    "    \n",
    "    maximum = float('-inf')\n",
    "    for item in arr:\n",
    "        if item>maximum:\n",
    "            maximum = item\n",
    "    return maximum\n",
    "    \n",
    "def kth_largest(arr,k):\n",
    "    \n",
    "    count = 0\n",
    "    \n",
    "    \n",
    "    while(count<k-1):\n",
    "        \n",
    "        maximum = findMax(arr)\n",
    "        arr.remove(maximum)\n",
    "        count +=1\n",
    "    return findMax(arr)\n",
    "        \n",
    "        \n",
    "kth_largest([3, 2, 1, 5, 6, 4],6)"
   ]
  },
  {
   "cell_type": "markdown",
   "metadata": {},
   "source": [
    "#### Problem 24: Given an unsorted array, reorder it in-place such that nums[0] <= nums[1] >= nums[2] <= nums[3]...\n",
    "\n",
    "* Input: nums = [3, 5, 2, 1, 6, 4]\n",
    "* Output: [3, 5, 1, 6, 2, 4]"
   ]
  },
  {
   "cell_type": "code",
   "execution_count": 25,
   "metadata": {},
   "outputs": [
    {
     "data": {
      "text/plain": [
       "[3, 5, 1, 6, 2, 4]"
      ]
     },
     "execution_count": 25,
     "metadata": {},
     "output_type": "execute_result"
    }
   ],
   "source": [
    "def reorder_array(arr):\n",
    "    \n",
    "    for i in range(len(arr)-1):\n",
    "        \n",
    "        if i%2 == 0 and arr[i] > arr[i+1]:\n",
    "            arr[i], arr[i+1] = arr[i+1], arr[i]\n",
    "        if i%2 !=0 and arr[i] < arr[i+1]:\n",
    "            arr[i], arr[i+1] = arr[i+1], arr[i]\n",
    "    return arr\n",
    "\n",
    "reorder_array([3, 5, 2, 1, 6, 4])"
   ]
  },
  {
   "cell_type": "markdown",
   "metadata": {},
   "source": [
    "#### Problem 25: Given an array of integers, calculate the sum of all its elements.\n",
    "* Input: [1, 2, 3, 4, 5]\n",
    "* Output: 15"
   ]
  },
  {
   "cell_type": "code",
   "execution_count": 26,
   "metadata": {},
   "outputs": [
    {
     "data": {
      "text/plain": [
       "15"
      ]
     },
     "execution_count": 26,
     "metadata": {},
     "output_type": "execute_result"
    }
   ],
   "source": [
    "def sum_of_arr(arr):\n",
    "    \n",
    "    sum_total = 0\n",
    "    \n",
    "    for item in arr:\n",
    "        sum_total +=item\n",
    "    return sum_total\n",
    "sum_of_arr([1, 2, 3, 4, 5])"
   ]
  },
  {
   "cell_type": "markdown",
   "metadata": {},
   "source": [
    "#### Problem 26: Find the maximum element in an array of integers.\n",
    "\n",
    "* Input: [3, 7, 2, 9, 4, 1]\n",
    "* Output: 9"
   ]
  },
  {
   "cell_type": "code",
   "execution_count": 27,
   "metadata": {},
   "outputs": [
    {
     "data": {
      "text/plain": [
       "9"
      ]
     },
     "execution_count": 27,
     "metadata": {},
     "output_type": "execute_result"
    }
   ],
   "source": [
    "def findMaxElement(arr):\n",
    "    \n",
    "    maximum = float('-inf')\n",
    "    for item in arr:\n",
    "        if item>maximum:\n",
    "            maximum = item\n",
    "    return maximum\n",
    "findMaxElement([3, 7, 2, 9, 4, 1])"
   ]
  },
  {
   "cell_type": "markdown",
   "metadata": {},
   "source": [
    "#### Problem 27: Implement linear search to find the index of a target element in an array.\n",
    "\n",
    "* Input: [5, 3, 8, 2, 7, 4], target = 8\n",
    "* Output: 2"
   ]
  },
  {
   "cell_type": "code",
   "execution_count": 28,
   "metadata": {},
   "outputs": [
    {
     "data": {
      "text/plain": [
       "2"
      ]
     },
     "execution_count": 28,
     "metadata": {},
     "output_type": "execute_result"
    }
   ],
   "source": [
    "def linearSearch(arr,target):\n",
    "    \n",
    "    for i in range(len(arr)):\n",
    "        if arr[i] == target:\n",
    "            return i\n",
    "    return -1\n",
    "\n",
    "linearSearch([5, 3, 8, 2, 7, 4],8)"
   ]
  },
  {
   "cell_type": "markdown",
   "metadata": {},
   "source": [
    "#### Problem 28 Calculate the factorial of a given number.\n",
    "\n",
    "* Input: 5\n",
    "* Output: 120 (as 5! = 5 * 4 * 3 * 2 * 1 = 120)"
   ]
  },
  {
   "cell_type": "code",
   "execution_count": 29,
   "metadata": {},
   "outputs": [
    {
     "data": {
      "text/plain": [
       "120"
      ]
     },
     "execution_count": 29,
     "metadata": {},
     "output_type": "execute_result"
    }
   ],
   "source": [
    "def factorial(num):\n",
    "    \n",
    "    if num ==0 or num == 1:\n",
    "        return 1\n",
    "    else:\n",
    "        return num*factorial(num-1)\n",
    "factorial(5)"
   ]
  },
  {
   "cell_type": "markdown",
   "metadata": {},
   "source": [
    "#### Problem 29: Check if a given number is a prime number.\n",
    "\n",
    "* Input: 7\n",
    "* Output: True"
   ]
  },
  {
   "cell_type": "code",
   "execution_count": 30,
   "metadata": {},
   "outputs": [
    {
     "data": {
      "text/plain": [
       "True"
      ]
     },
     "execution_count": 30,
     "metadata": {},
     "output_type": "execute_result"
    }
   ],
   "source": [
    "def isPrime(num):\n",
    "    \n",
    "    if num == 0 or num ==1:\n",
    "        return False\n",
    "  \n",
    "    for i in range(2,num):\n",
    "            \n",
    "        if num%i == 0:\n",
    "            \n",
    "            return False\n",
    "        \n",
    "    return True\n",
    "isPrime(7)"
   ]
  },
  {
   "cell_type": "markdown",
   "metadata": {},
   "source": [
    "#### Problem 30: Generate the Fibonacci series up to a given number n.\n",
    "\n",
    "* Input: 8\n",
    "* Output: [0, 1, 1, 2, 3, 5, 8, 13]"
   ]
  },
  {
   "cell_type": "code",
   "execution_count": 31,
   "metadata": {},
   "outputs": [
    {
     "data": {
      "text/plain": [
       "[0, 1, 1, 2, 3, 5, 8, 13]"
      ]
     },
     "execution_count": 31,
     "metadata": {},
     "output_type": "execute_result"
    }
   ],
   "source": [
    "def fib(n):\n",
    "    \n",
    "    if n == 0 or n ==1:\n",
    "        return n\n",
    "    else:\n",
    "        return fib(n-1) + fib(n-2)\n",
    "    \n",
    "def generate_fib(n):\n",
    "    \n",
    "    fib_list= []\n",
    "    \n",
    "    for i in range(n):\n",
    "        fib_list.append(fib(i))\n",
    "    \n",
    "    return fib_list\n",
    "\n",
    "generate_fib(8)"
   ]
  },
  {
   "cell_type": "markdown",
   "metadata": {},
   "source": [
    "#### Problem 31: Calculate the power of a number using recursion.\n",
    "* Input: base = 3, exponent = 4\n",
    "* Output: 81 (as 3^4 = 3 * 3 * 3 * 3 = 81)\n"
   ]
  },
  {
   "cell_type": "code",
   "execution_count": 32,
   "metadata": {},
   "outputs": [
    {
     "data": {
      "text/plain": [
       "81"
      ]
     },
     "execution_count": 32,
     "metadata": {},
     "output_type": "execute_result"
    }
   ],
   "source": [
    "def power(base,exponent):\n",
    "    \n",
    "    if exponent == 0:\n",
    "        return 1\n",
    "    else:\n",
    "        return base*power(base, exponent-1)\n",
    "    \n",
    "power(3,4)"
   ]
  },
  {
   "cell_type": "markdown",
   "metadata": {},
   "source": [
    "#### Problem 32: Reverse a given string.\n",
    "* Input: \"hello\"\n",
    "* Output: \"olleh\""
   ]
  },
  {
   "cell_type": "code",
   "execution_count": 33,
   "metadata": {},
   "outputs": [
    {
     "data": {
      "text/plain": [
       "'olleh'"
      ]
     },
     "execution_count": 33,
     "metadata": {},
     "output_type": "execute_result"
    }
   ],
   "source": [
    "def reverse_string(string):\n",
    "    \n",
    "    first = 0\n",
    "    last = len(string)-1\n",
    "    string = list(string)\n",
    "    while(first < last):\n",
    "        \n",
    "        string[first], string[last] = string[last], string[first]\n",
    "        first +=1\n",
    "        last -=1\n",
    "    return \"\".join(string)\n",
    "\n",
    "reverse_string(\"hello\")"
   ]
  },
  {
   "cell_type": "code",
   "execution_count": null,
   "metadata": {},
   "outputs": [],
   "source": []
  }
 ],
 "metadata": {
  "kernelspec": {
   "display_name": "Python 3",
   "language": "python",
   "name": "python3"
  },
  "language_info": {
   "codemirror_mode": {
    "name": "ipython",
    "version": 3
   },
   "file_extension": ".py",
   "mimetype": "text/x-python",
   "name": "python",
   "nbconvert_exporter": "python",
   "pygments_lexer": "ipython3",
   "version": "3.10.9"
  }
 },
 "nbformat": 4,
 "nbformat_minor": 2
}
