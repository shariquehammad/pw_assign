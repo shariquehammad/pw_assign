{
 "cells": [
  {
   "cell_type": "markdown",
   "metadata": {},
   "source": [
    "### Problem 1 : Find the Time complexity"
   ]
  },
  {
   "cell_type": "code",
   "execution_count": 1,
   "metadata": {},
   "outputs": [],
   "source": [
    "def quicksort(arr):\n",
    "\n",
    "    if len(arr) <= 1:\n",
    "        return arr\n",
    "    pivot = arr[len(arr) // 2]\n",
    "    left = [x for x in arr if x < pivot]\n",
    "    middle = [x for x in arr if x == pivot]\n",
    "    right = [x for x in arr if x > pivot]\n",
    "    return quicksort(left) + middle + quicksort(right)"
   ]
  },
  {
   "cell_type": "markdown",
   "metadata": {},
   "source": [
    "* T. C = O(nlogn)"
   ]
  },
  {
   "cell_type": "markdown",
   "metadata": {},
   "source": [
    "### problem 2: Find time Complexity\n",
    "\n"
   ]
  },
  {
   "cell_type": "code",
   "execution_count": 2,
   "metadata": {},
   "outputs": [],
   "source": [
    "def nested_loop_example(matrix):\n",
    "\n",
    "    rows, cols = len(matrix), len(matrix[0])\n",
    "\n",
    "    total = 0\n",
    "\n",
    "    for i in range(rows):\n",
    "\n",
    "        for j in range(cols):\n",
    "\n",
    "            total += matrix[i][j]\n",
    "\n",
    "    return total\n"
   ]
  },
  {
   "cell_type": "markdown",
   "metadata": {},
   "source": [
    "* T.C = O(n^2) \n",
    "\n",
    "* two nested for loop causes T.C to be N^2"
   ]
  },
  {
   "cell_type": "markdown",
   "metadata": {},
   "source": [
    "### Problem 3: Find time complexity"
   ]
  },
  {
   "cell_type": "code",
   "execution_count": 3,
   "metadata": {},
   "outputs": [],
   "source": [
    "def example_function(arr):\n",
    "\n",
    "    result = 0\n",
    "\n",
    "    for element in arr:\n",
    "\n",
    "        result += element\n",
    "\n",
    "    return result"
   ]
  },
  {
   "cell_type": "markdown",
   "metadata": {},
   "source": [
    "* T.C = O(n)\n",
    "* A single for loop traversing array"
   ]
  },
  {
   "cell_type": "markdown",
   "metadata": {},
   "source": [
    "### Problem 4: Find T.C"
   ]
  },
  {
   "cell_type": "code",
   "execution_count": null,
   "metadata": {},
   "outputs": [],
   "source": [
    "\n",
    "def longest_increasing_subsequence(nums):\n",
    "\n",
    "    n = len(nums)\n",
    "\n",
    "    lis = [1] * n\n",
    "\n",
    "    for i in range(1, n):\n",
    "\n",
    "        for j in range(0, i):\n",
    "\n",
    "            if nums[i] > nums[j] and lis[i] < lis[j] + 1:\n",
    "\n",
    "                lis[i] = lis[j] + 1\n",
    "\n",
    "    return max(lis)"
   ]
  },
  {
   "cell_type": "markdown",
   "metadata": {},
   "source": [
    "* T.C = O(n^2)\n",
    "* two nested loop traversing an array"
   ]
  },
  {
   "cell_type": "markdown",
   "metadata": {},
   "source": [
    "### Problem 5: Finf T.C"
   ]
  },
  {
   "cell_type": "code",
   "execution_count": 4,
   "metadata": {},
   "outputs": [],
   "source": [
    "def mysterious_function(arr):\n",
    "\n",
    "    n = len(arr)\n",
    "\n",
    "    result = 0\n",
    "\n",
    "    for i in range(n):\n",
    "\n",
    "        for j in range(i, n):\n",
    "\n",
    "            result += arr[i] * arr[j]\n",
    "\n",
    "    return result"
   ]
  },
  {
   "cell_type": "markdown",
   "metadata": {},
   "source": [
    "* T.C = O(n^2)\n",
    "* Two nested for loop traversing array"
   ]
  },
  {
   "cell_type": "markdown",
   "metadata": {},
   "source": [
    "### Problem 6: Sum Of Digits\n",
    "\n",
    "* Write a recursive function to calculate the sum of digits of a given positive integer.\n",
    "\n",
    "\n",
    "`sum_of_digits(123) -> 6`"
   ]
  },
  {
   "cell_type": "code",
   "execution_count": 9,
   "metadata": {},
   "outputs": [
    {
     "name": "stdout",
     "output_type": "stream",
     "text": [
      "20\n"
     ]
    }
   ],
   "source": [
    "def sum_of_digits(num):\n",
    "    \n",
    "    if num == 0:\n",
    "        return 0\n",
    "    else:\n",
    "        return num%10 + sum_of_digits(int(num/10))\n",
    "        \n",
    "\n",
    "print(sum_of_digits(497))"
   ]
  },
  {
   "cell_type": "markdown",
   "metadata": {},
   "source": [
    "### Problem 7: Fibonacci Series\n",
    "* `Write a recursive function to generate the first n numbers of the Fibonacci series.`\n",
    "\n",
    "* `fibonacci_series(6) -> [0, 1, 1, 2, 3, 5]`"
   ]
  },
  {
   "cell_type": "code",
   "execution_count": 30,
   "metadata": {},
   "outputs": [
    {
     "name": "stdout",
     "output_type": "stream",
     "text": [
      "0\n",
      "1\n",
      "1\n",
      "2\n",
      "3\n",
      "5\n"
     ]
    }
   ],
   "source": [
    "def fibonacci_series(n):\n",
    "    if n == 1:\n",
    "        return 0\n",
    "    elif n==2:\n",
    "        return 1\n",
    "    else:\n",
    "        return fibonacci_series(n-1)+fibonacci_series(n-2)\n",
    "\n",
    "n =6\n",
    "for i in range(n):\n",
    "    result = fibonacci_series(i+1)\n",
    "    print(result)"
   ]
  },
  {
   "cell_type": "markdown",
   "metadata": {},
   "source": [
    "### Problem 8 : Subset Sum\n",
    "* Given a set of positive integers and a target sum, write a recursive function to determine if there exists a subset of the integers that adds up to the target sum.\n",
    "\n",
    "`subset_sum([3, 34, 4, 12, 5, 2], 9) -> True`"
   ]
  },
  {
   "cell_type": "code",
   "execution_count": 1,
   "metadata": {},
   "outputs": [
    {
     "name": "stdout",
     "output_type": "stream",
     "text": [
      "False\n"
     ]
    }
   ],
   "source": [
    "def isSubsetSum(set, n, sum):\n",
    "\n",
    "    if (sum == 0):\n",
    "        return True\n",
    "    if (n == 0):\n",
    "        return False\n",
    "\n",
    "    if (set[n - 1] > sum):\n",
    "        return isSubsetSum(set, n - 1, sum)\n",
    "\n",
    "    return isSubsetSum(\n",
    "        set, n-1, sum) or isSubsetSum(\n",
    "        set, n-1, sum-set[n-1])\n",
    "\n",
    "print(isSubsetSum([3, 34, 4, 12, 5, 2], 6 , 101))"
   ]
  },
  {
   "cell_type": "markdown",
   "metadata": {},
   "source": [
    "#### Problem 9: Word Break Given a non-empty string and a dictionary of words, write a recursive function to determine if the string can be segmented into a space-separated sequence of dictionary words.\n",
    "\n",
    "* word_break( leetcode , [ leet , code ]) -> True"
   ]
  },
  {
   "cell_type": "code",
   "execution_count": 2,
   "metadata": {},
   "outputs": [
    {
     "name": "stdout",
     "output_type": "stream",
     "text": [
      "True\n"
     ]
    }
   ],
   "source": [
    "def wordBreak(wordList, word):\n",
    "    if word == '':\n",
    "        return True\n",
    "    else:\n",
    "        wordLen = len(word)\n",
    "        for i in range(1,wordLen+1):\n",
    "          if word[:i] in wordList and wordBreak(wordList, word[i:]):\n",
    "            return True\n",
    "        return False\n",
    "\n",
    "print(wordBreak( [\"leet\", \"code\"], \"leetcode\"))"
   ]
  },
  {
   "cell_type": "markdown",
   "metadata": {},
   "source": [
    "#### Problem 10 : N-Queens\n",
    "* Implement a recursive function to solve the N Queens problem, where you have to place N queens on an N×N chessboard in such a way that no two queens threaten each other."
   ]
  },
  {
   "cell_type": "code",
   "execution_count": 3,
   "metadata": {},
   "outputs": [
    {
     "name": "stdout",
     "output_type": "stream",
     "text": [
      ". . Q . \n",
      "Q . . . \n",
      ". . . Q \n",
      ". Q . . \n"
     ]
    }
   ],
   "source": [
    "global N\n",
    "N = 4\n",
    "\n",
    "\n",
    "def printSolution(board):\n",
    "    for i in range(N):\n",
    "        for j in range(N):\n",
    "            if board[i][j] == 1:\n",
    "                print(\"Q\",end=\" \")\n",
    "            else:\n",
    "                print(\".\",end=\" \")\n",
    "        print()\n",
    "\n",
    "\n",
    "def isSafe(board, row, col):\n",
    "\n",
    "    # Check this row on left side\n",
    "    for i in range(col):\n",
    "        if board[row][i] == 1:\n",
    "            return False\n",
    "\n",
    "    # Check upper diagonal on left side\n",
    "    for i, j in zip(range(row, -1, -1),\n",
    "                    range(col, -1, -1)):\n",
    "        if board[i][j] == 1:\n",
    "            return False\n",
    "\n",
    "    # Check lower diagonal on left side\n",
    "    for i, j in zip(range(row, N, 1),\n",
    "                    range(col, -1, -1)):\n",
    "        if board[i][j] == 1:\n",
    "            return False\n",
    "\n",
    "    return True\n",
    "\n",
    "\n",
    "def solveNQUtil(board, col):\n",
    "\n",
    "    if col >= N:\n",
    "        return True\n",
    "\n",
    "    for i in range(N):\n",
    "\n",
    "        if isSafe(board, i, col):\n",
    "\n",
    "            board[i][col] = 1\n",
    "\n",
    "            if solveNQUtil(board, col + 1) :\n",
    "                return True\n",
    "\n",
    "            board[i][col] = 0\n",
    "\n",
    "    return False\n",
    "\n",
    "def solveNQ():\n",
    "    board = [[0, 0, 0, 0],\n",
    "             [0, 0, 0, 0],\n",
    "             [0, 0, 0, 0],\n",
    "             [0, 0, 0, 0]]\n",
    "\n",
    "    if not solveNQUtil(board, 0) :\n",
    "        print(\"Solution does not exist\")\n",
    "        return\n",
    "\n",
    "    printSolution(board)\n",
    "\n",
    "\n",
    "\n",
    "solveNQ()"
   ]
  },
  {
   "cell_type": "code",
   "execution_count": null,
   "metadata": {},
   "outputs": [],
   "source": []
  }
 ],
 "metadata": {
  "kernelspec": {
   "display_name": "Python 3",
   "language": "python",
   "name": "python3"
  },
  "language_info": {
   "codemirror_mode": {
    "name": "ipython",
    "version": 3
   },
   "file_extension": ".py",
   "mimetype": "text/x-python",
   "name": "python",
   "nbconvert_exporter": "python",
   "pygments_lexer": "ipython3",
   "version": "3.10.9"
  }
 },
 "nbformat": 4,
 "nbformat_minor": 2
}
