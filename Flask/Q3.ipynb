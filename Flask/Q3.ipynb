{
 "cells": [
  {
   "cell_type": "code",
   "execution_count": 2,
   "metadata": {},
   "outputs": [
    {
     "name": "stdout",
     "output_type": "stream",
     "text": [
      " * Serving Flask app '__main__'\n",
      " * Debug mode: off\n"
     ]
    },
    {
     "name": "stderr",
     "output_type": "stream",
     "text": [
      "WARNING: This is a development server. Do not use it in a production deployment. Use a production WSGI server instead.\n",
      " * Running on http://127.0.0.1:5000\n",
      "Press CTRL+C to quit\n",
      "127.0.0.1 - - [07/Nov/2023 12:58:29] \"GET / HTTP/1.1\" 200 -\n",
      "127.0.0.1 - - [07/Nov/2023 12:58:29] \"GET /favicon.ico HTTP/1.1\" 404 -\n",
      "127.0.0.1 - - [07/Nov/2023 12:58:31] \"GET / HTTP/1.1\" 200 -\n",
      "127.0.0.1 - - [07/Nov/2023 12:58:33] \"GET / HTTP/1.1\" 200 -\n",
      "127.0.0.1 - - [07/Nov/2023 12:58:37] \"POST /user_profile HTTP/1.1\" 200 -\n"
     ]
    }
   ],
   "source": [
    "from flask import Flask, render_template, request\n",
    "\n",
    "app = Flask(__name__)\n",
    "\n",
    "# Route to display the user profile form\n",
    "@app.route('/')\n",
    "def user_input():\n",
    "    return render_template('Q3user_input.html')\n",
    "\n",
    "# Route to display dynamic content based on the entered username\n",
    "@app.route('/user_profile', methods=['POST'])\n",
    "def user_profile():\n",
    "    username = request.form['username']\n",
    "    return render_template('Q3user_profile.html', username=username)\n",
    "\n",
    "if __name__ == '__main__':\n",
    "    app.run()\n"
   ]
  },
  {
   "cell_type": "code",
   "execution_count": null,
   "metadata": {},
   "outputs": [],
   "source": []
  }
 ],
 "metadata": {
  "kernelspec": {
   "display_name": "Python 3",
   "language": "python",
   "name": "python3"
  },
  "language_info": {
   "codemirror_mode": {
    "name": "ipython",
    "version": 3
   },
   "file_extension": ".py",
   "mimetype": "text/x-python",
   "name": "python",
   "nbconvert_exporter": "python",
   "pygments_lexer": "ipython3",
   "version": "3.10.9"
  }
 },
 "nbformat": 4,
 "nbformat_minor": 2
}
