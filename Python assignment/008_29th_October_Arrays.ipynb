{
 "cells": [
  {
   "cell_type": "markdown",
   "id": "c6e1ebeb",
   "metadata": {},
   "source": [
    "## Assignment - Arrays - 29th October 2023"
   ]
  },
  {
   "cell_type": "markdown",
   "id": "5afab579",
   "metadata": {},
   "source": [
    "#### 1. Given an array, check if it contains any duplicates or not.\n",
    "arr = [1, 2, 4, 2, 5, 9]\n",
    "\n",
    "Output = True"
   ]
  },
  {
   "cell_type": "code",
   "execution_count": 5,
   "id": "64eb70e2",
   "metadata": {},
   "outputs": [
    {
     "data": {
      "text/plain": [
       "True"
      ]
     },
     "execution_count": 5,
     "metadata": {},
     "output_type": "execute_result"
    }
   ],
   "source": [
    "def check_duplicates(arr):\n",
    "    dict_ = {}\n",
    "    for item in arr:\n",
    "        if item in dict_:\n",
    "            return True\n",
    "        else:\n",
    "            dict_[item] = 1\n",
    "    return False\n",
    "       \n",
    "check_duplicates([1,2,3,4,4])       "
   ]
  },
  {
   "cell_type": "markdown",
   "id": "925778cf",
   "metadata": {},
   "source": [
    "#### 2. Given an array and an integer k, rotate the array to the right by k steps.\n",
    "\n",
    "arr = [1, 2, 3, 4, 5, 6, 7] k = 3\n",
    "\n",
    "Output = [5, 6, 7, 1, 2, 3, 4]"
   ]
  },
  {
   "cell_type": "code",
   "execution_count": 81,
   "id": "3c5e6657",
   "metadata": {},
   "outputs": [
    {
     "data": {
      "text/plain": [
       "[5, 6, 7, 1, 2, 3, 4]"
      ]
     },
     "execution_count": 81,
     "metadata": {},
     "output_type": "execute_result"
    }
   ],
   "source": [
    "def rotate_right(arr, k):\n",
    "    \n",
    "    n = len(arr)\n",
    "    \n",
    "    k %= n  # If k is greater than n, we only need to rotate k % n times\n",
    "    \n",
    "    arr[:] = arr[n-k:] + arr[:n-k]\n",
    "    \n",
    "    return arr \n",
    "\n",
    "rotate_right([1,2,3,4,5,6,7], 3)   "
   ]
  },
  {
   "cell_type": "markdown",
   "id": "a67ac946",
   "metadata": {},
   "source": [
    "#### 3. Reverse the given array in-place, means without using any extra data structure.\n",
    "\n",
    "arr = [2, 4, 5, 7, 9, 12]\n",
    "\n",
    "Output = [12, 9, 7, 5, 4, 2]"
   ]
  },
  {
   "cell_type": "code",
   "execution_count": 87,
   "id": "6e1c4f0e",
   "metadata": {},
   "outputs": [
    {
     "data": {
      "text/plain": [
       "[12, 9, 7, 5, 4, 2]"
      ]
     },
     "execution_count": 87,
     "metadata": {},
     "output_type": "execute_result"
    }
   ],
   "source": [
    "def reverse_array(arr):\n",
    "    \n",
    "    for i in range(len(arr)//2):\n",
    "        \n",
    "        arr[i], arr[-i-1] = arr[-i-1], arr[i]\n",
    "        \n",
    "    return arr\n",
    "reverse_array([2, 4, 5, 7, 9, 12])"
   ]
  },
  {
   "cell_type": "markdown",
   "id": "083be671",
   "metadata": {},
   "source": [
    "#### 4. Given an array of integers, find the maximum element in an array\n",
    "\n",
    "arr = [10, 5, 20, 8, 15]\n",
    "\n",
    "Output = 20"
   ]
  },
  {
   "cell_type": "code",
   "execution_count": 90,
   "id": "620c0b48",
   "metadata": {},
   "outputs": [
    {
     "data": {
      "text/plain": [
       "20"
      ]
     },
     "execution_count": 90,
     "metadata": {},
     "output_type": "execute_result"
    }
   ],
   "source": [
    "def find_max(arr):\n",
    "    \n",
    "    maximum = arr[0]\n",
    "    for i in range(1,len(arr)):\n",
    "        if arr[i]>maximum:\n",
    "            maximum = arr[i]\n",
    "    return maximum\n",
    "find_max([10, 5, 20, 8, 15])"
   ]
  },
  {
   "cell_type": "markdown",
   "id": "5364d922",
   "metadata": {},
   "source": [
    "#### 5. Given a sorted array, remove the duplicate element without using any extra data structure.\n",
    "\n",
    "arr = [1, 1, 2, 2, 2, 3, 3, 4, 4, 4, 5, 5]\n",
    "\n",
    "Output = [1, 2, 3, 4, 5]"
   ]
  },
  {
   "cell_type": "code",
   "execution_count": 95,
   "id": "dd6fee71",
   "metadata": {},
   "outputs": [
    {
     "name": "stdout",
     "output_type": "stream",
     "text": [
      "1 2 3 4 5 "
     ]
    }
   ],
   "source": [
    "def remove_duplicates(arrr):\n",
    "    if not arr:\n",
    "        return 0\n",
    "\n",
    "    i = 0\n",
    "    for j in range(1, len(arr)):\n",
    "        if arr[j] != arr[i]:\n",
    "            i += 1\n",
    "            arr[i] = arr[j]\n",
    "\n",
    "    return i + 1\n",
    "arr = [1, 1, 2, 2, 2, 3, 3, 4, 4, 4, 5, 5]\n",
    "length = remove_duplicates(arr)\n",
    "for i in range(length):\n",
    "    print(arr[i], end=' ')"
   ]
  }
 ],
 "metadata": {
  "kernelspec": {
   "display_name": "Python 3",
   "language": "python",
   "name": "python3"
  },
  "language_info": {
   "codemirror_mode": {
    "name": "ipython",
    "version": 3
   },
   "file_extension": ".py",
   "mimetype": "text/x-python",
   "name": "python",
   "nbconvert_exporter": "python",
   "pygments_lexer": "ipython3",
   "version": "3.8.8"
  }
 },
 "nbformat": 4,
 "nbformat_minor": 5
}
